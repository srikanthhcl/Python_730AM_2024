{
 "cells": [
  {
   "cell_type": "code",
   "execution_count": 3,
   "id": "a77c61b2-a3f8-40aa-bc2c-34929158f34e",
   "metadata": {},
   "outputs": [
    {
     "name": "stdout",
     "output_type": "stream",
     "text": [
      "200\n"
     ]
    }
   ],
   "source": [
    "#case-1\n",
    "def case1(c1,c11=100):\n",
    "    case1add=c1+c11\n",
    "    print(case1add)\n",
    "\n",
    "case1(100)\n",
    "#define the function with 2 parameters, c1 is mandaotry paramter another one c11=100 is a default paramter\n",
    "#calling the function with 100 as an argument\n",
    "#new the values of c1=100 & c11=100\n",
    "#after additon of c1 &c11, the output will be print as 200"
   ]
  },
  {
   "cell_type": "code",
   "execution_count": 4,
   "id": "0842b686-6f30-49b6-b683-74a74c853e7e",
   "metadata": {},
   "outputs": [
    {
     "name": "stdout",
     "output_type": "stream",
     "text": [
      "300\n"
     ]
    }
   ],
   "source": [
    "#case-2\n",
    "def case2(c2,c22=100):\n",
    "    case2add=c2+c22\n",
    "    print(case1add)\n",
    "\n",
    "case1(100,200)\n",
    "#define the function with 2 parameters, c2 is mandaotry paramter another one c22=100 is a default paramter\n",
    "#calling the function with two areguments as 100 & 200\n",
    "#now new values of c2=100 & c22=200\n",
    "#after additon of c2 &c22, the output will be print as 300"
   ]
  },
  {
   "cell_type": "code",
   "execution_count": 5,
   "id": "d467e17a-9fa8-46f4-ba55-907ba0d80c8b",
   "metadata": {},
   "outputs": [
    {
     "name": "stdout",
     "output_type": "stream",
     "text": [
      "900\n"
     ]
    }
   ],
   "source": [
    "#case-3\n",
    "def case3(c3,c33=300):\n",
    "    c33=400\n",
    "    case3add=c3+c33\n",
    "    print(case3add)\n",
    "case3(500,1000)\n",
    "#define the fuction with 2 parameters c3 is mandaotry paramter another one c33=100 is a default paramter\n",
    "#calling the function with 2 argumnets c3=500 & c33=1000\n",
    "#Running the new values of c3=500 & c33=400(here c33 override with 1000 and then assigned to 400)\n",
    "#The out put of the values is 900    "
   ]
  },
  {
   "cell_type": "code",
   "execution_count": 7,
   "id": "72cdc09a-ad1b-41ff-be5a-45f200ba7307",
   "metadata": {},
   "outputs": [
    {
     "name": "stdout",
     "output_type": "stream",
     "text": [
      "710\n",
      "200\n"
     ]
    }
   ],
   "source": [
    "#case-4\n",
    "def case4(c4,c44=600):\n",
    "    c44=700\n",
    "    case4add = c4+c44\n",
    "    print(case4add)\n",
    "c44=200\n",
    "case4(10,20)\n",
    "print(c44)\n",
    "#define the fuction with 2 parameters c4 is mandaotry paramter another one c44=600 is a default paramter\n",
    "#calling the function with 2 argumnets c4=500 & c44=1004  \n",
    "#New values are chnged to c4=10 & c44=700(while calling c44 =20 then 20 is overide with 600)\n",
    "#the out put of the Value is  c44=700 & c4=10"
   ]
  },
  {
   "cell_type": "code",
   "execution_count": 12,
   "id": "457bdd7a-dc9a-468a-b929-a4d31c735a46",
   "metadata": {},
   "outputs": [
    {
     "name": "stdout",
     "output_type": "stream",
     "text": [
      "Lets Execute\n",
      "500\n"
     ]
    }
   ],
   "source": [
    "#case-5\n",
    "c5=100\n",
    "c55=200\n",
    "def case5(c5=300):\n",
    "    case5add  = c5+c55\n",
    "    print(case5add)\n",
    "\n",
    "print(\"Lets Execute\")\n",
    "case5()\n",
    "\n",
    "#Gloabl Variable initialization ie c5=100 & c55=200\n",
    "#Define the function with local variable case5add\n",
    "#calling the function wiht default argument c5=300\n",
    "#Running the function the values of c5=100 is override with c5=300 &c55=200\n",
    "#the output of the function print as 500"
   ]
  },
  {
   "cell_type": "code",
   "execution_count": null,
   "id": "2b4e7120-1b15-4a39-ab25-75d78ae28677",
   "metadata": {},
   "outputs": [],
   "source": [
    "#case-6\n",
    "c6=100\n",
    "c66=200\n",
    "def case6(c6=100):\n",
    "    case6add=c6 + c66\n",
    "    print(case6add)\n",
    "\n",
    "case6add(c6=1000,c66=12345)\n",
    "#Gloabl Variable initialization ie c6=100 & c66=200\n",
    "#Define the function with local default parameter c6=100 and variable case5add\n",
    "#calling the function wiht default argument c6=1000 and c66=12345\n",
    "#Running the function the values of c6=100 & c66=12345 \n",
    "#the output of the function print as 166\n",
    "    \n",
    "    "
   ]
  },
  {
   "cell_type": "code",
   "execution_count": 15,
   "id": "2b173576-8743-48b9-a91a-da9e6d583669",
   "metadata": {},
   "outputs": [
    {
     "name": "stdout",
     "output_type": "stream",
     "text": [
      "600\n"
     ]
    }
   ],
   "source": [
    "#Case-7\n",
    "c7=100\n",
    "c77=200\n",
    "def case7(c7=300):\n",
    "    case7add = c7 + c77\n",
    "    print(case7add)\n",
    "case7(c7=400)\n",
    "#Initialize Gloable Variables  c7=100 & c77=200\n",
    "#Define fuction with one default parameter si c7=300\n",
    "#calling function with default argument c7=400\n",
    "#Runing function the values of c7=400 & c77=200\n",
    "#The out put of the result is 600\n"
   ]
  },
  {
   "cell_type": "code",
   "execution_count": 16,
   "id": "0ef05649-ca8c-43c2-8f09-c4fe2d9d2570",
   "metadata": {},
   "outputs": [
    {
     "name": "stdout",
     "output_type": "stream",
     "text": [
      "5200\n"
     ]
    }
   ],
   "source": [
    "#Case-8\n",
    "c8=100\n",
    "c88=200\n",
    "def case8(c8=1000):\n",
    "    c8=5000\n",
    "    case8add = c8+c88\n",
    "    print(case8add)\n",
    "case8(c8=2000)\n",
    "\n",
    "#Gloabl Variables Iitialization c8=100 c88=200\n",
    "#Define the function with one default parameter c8=1000\n",
    "#calling function with argument c8=2000\n",
    "#Running Function the values are c8(1000=>Overrides with 2000, again override with 5000)\n",
    "#the out put of the function is :5200\n"
   ]
  },
  {
   "cell_type": "code",
   "execution_count": 17,
   "id": "d49d0c66-9ec5-4668-af3a-91e3cc0546d5",
   "metadata": {},
   "outputs": [
    {
     "name": "stdout",
     "output_type": "stream",
     "text": [
      "5200\n"
     ]
    }
   ],
   "source": [
    "#Case-9\n",
    "c9=100\n",
    "c99=200\n",
    "def case9(c9=1000):\n",
    "    c9=5000\n",
    "    case9add = c9 + c99\n",
    "    print(case9add)\n",
    "\n",
    "c9=6000\n",
    "case9(c9=2000)\n",
    "\n",
    "#Gloabl Variables initalization\n",
    "#Define function with one default parameter c9=1000 & local variable case9add\n",
    "#calling function with one argument c9=2000\n",
    "#Running function c9=5000(c9=2000=>1000->5000) & c99=200\n",
    "#the pot put of the addition is case9add = 5000 + 200=>5200   "
   ]
  },
  {
   "cell_type": "code",
   "execution_count": 18,
   "id": "9840230b-7a11-4fc9-8f1a-f8a896b7fb6a",
   "metadata": {},
   "outputs": [
    {
     "data": {
      "text/plain": [
       "6000"
      ]
     },
     "execution_count": 18,
     "metadata": {},
     "output_type": "execute_result"
    }
   ],
   "source": [
    "c9"
   ]
  },
  {
   "cell_type": "code",
   "execution_count": 34,
   "id": "2a44e757-33bb-4e59-a8f7-ca6f242f293a",
   "metadata": {},
   "outputs": [
    {
     "name": "stdout",
     "output_type": "stream",
     "text": [
      "8200\n"
     ]
    }
   ],
   "source": [
    "#Case-10\n",
    "c10=200\n",
    "def case10():\n",
    "    case10add = c10 + c1010\n",
    "    print(case10add)\n",
    "c1010=8000\n",
    "case10()\n",
    "\n",
    "#Global Variale declaration c10=200\n",
    "#Define function without arguments\n",
    "#Another Global Varibale declared c1010 =6000\n",
    "#Calling function without any argumets\n",
    "#Running functon with c10=200 + c1010=6000\n",
    "#The output of the Result is 6200"
   ]
  },
  {
   "cell_type": "code",
   "execution_count": 35,
   "id": "64eb85f0-e3cf-4263-97ec-bab8f983039b",
   "metadata": {},
   "outputs": [
    {
     "name": "stdout",
     "output_type": "stream",
     "text": [
      "6600\n"
     ]
    }
   ],
   "source": [
    "#Case-11\n",
    "c1111=600\n",
    "def case11():\n",
    "    case11add = c11 +c1111\n",
    "    print(case11add)\n",
    "c11=6000\n",
    "case11()\n",
    "#Gloabl Variable declaration c1111=200\n",
    "#Define function without paramter\n",
    "#Again Gloabal Variable declared c11=6000\n",
    "#Callinf Function without any arguments\n",
    "#Running functon c11=6000 & c1111=200 \n",
    "#the out put of the result is 6200"
   ]
  },
  {
   "cell_type": "code",
   "execution_count": 1,
   "id": "6e5020e9-7070-4b5d-9b59-686ed309c2cb",
   "metadata": {},
   "outputs": [
    {
     "ename": "NameError",
     "evalue": "name 'c12' is not defined",
     "output_type": "error",
     "traceback": [
      "\u001b[1;31m---------------------------------------------------------------------------\u001b[0m",
      "\u001b[1;31mNameError\u001b[0m                                 Traceback (most recent call last)",
      "Cell \u001b[1;32mIn[1], line 6\u001b[0m\n\u001b[0;32m      4\u001b[0m     case12add \u001b[38;5;241m=\u001b[39m c12 \u001b[38;5;241m+\u001b[39m c1212\n\u001b[0;32m      5\u001b[0m     \u001b[38;5;28mprint\u001b[39m(case12add)\n\u001b[1;32m----> 6\u001b[0m case12()\n\u001b[0;32m      7\u001b[0m c12 \u001b[38;5;241m=\u001b[39m\u001b[38;5;241m6000\u001b[39m\n",
      "Cell \u001b[1;32mIn[1], line 4\u001b[0m, in \u001b[0;36mcase12\u001b[1;34m()\u001b[0m\n\u001b[0;32m      3\u001b[0m \u001b[38;5;28;01mdef\u001b[39;00m \u001b[38;5;21mcase12\u001b[39m():\n\u001b[1;32m----> 4\u001b[0m     case12add \u001b[38;5;241m=\u001b[39m c12 \u001b[38;5;241m+\u001b[39m c1212\n\u001b[0;32m      5\u001b[0m     \u001b[38;5;28mprint\u001b[39m(case12add)\n",
      "\u001b[1;31mNameError\u001b[0m: name 'c12' is not defined"
     ]
    }
   ],
   "source": [
    "#Case-12\n",
    "c1212 = 200\n",
    "def case12():\n",
    "    case12add = c12 + c1212\n",
    "    print(case12add)\n",
    "case12()\n",
    "c12 =6000\n",
    "\n",
    "#Gloabl Variable declaration c1212=200\n",
    "#Define function without paramter\n",
    "#Calling Function without any arguments\n",
    "#Again Gloabal Varible declared c12=6000\n",
    "#Running functon c12=6000 & c1212=200 \n",
    "#the out put of the result "
   ]
  },
  {
   "cell_type": "code",
   "execution_count": null,
   "id": "0ff565d3-08eb-46f8-82c8-1fe639c0d539",
   "metadata": {},
   "outputs": [],
   "source": []
  }
 ],
 "metadata": {
  "kernelspec": {
   "display_name": "Python 3 (ipykernel)",
   "language": "python",
   "name": "python3"
  },
  "language_info": {
   "codemirror_mode": {
    "name": "ipython",
    "version": 3
   },
   "file_extension": ".py",
   "mimetype": "text/x-python",
   "name": "python",
   "nbconvert_exporter": "python",
   "pygments_lexer": "ipython3",
   "version": "3.11.7"
  }
 },
 "nbformat": 4,
 "nbformat_minor": 5
}
